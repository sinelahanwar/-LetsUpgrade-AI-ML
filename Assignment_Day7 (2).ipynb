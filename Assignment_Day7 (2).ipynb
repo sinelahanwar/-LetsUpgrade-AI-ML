{
 "cells": [
  {
   "cell_type": "code",
   "execution_count": 17,
   "metadata": {},
   "outputs": [
    {
     "data": {
      "text/html": [
       "<div>\n",
       "<style scoped>\n",
       "    .dataframe tbody tr th:only-of-type {\n",
       "        vertical-align: middle;\n",
       "    }\n",
       "\n",
       "    .dataframe tbody tr th {\n",
       "        vertical-align: top;\n",
       "    }\n",
       "\n",
       "    .dataframe thead th {\n",
       "        text-align: right;\n",
       "    }\n",
       "</style>\n",
       "<table border=\"1\" class=\"dataframe\">\n",
       "  <thead>\n",
       "    <tr style=\"text-align: right;\">\n",
       "      <th></th>\n",
       "      <th>ID</th>\n",
       "      <th>Gender</th>\n",
       "      <th>Birth Date</th>\n",
       "      <th>Education</th>\n",
       "      <th>JobCategory</th>\n",
       "      <th>CurrentSalary</th>\n",
       "      <th>After6Months</th>\n",
       "      <th>SalBegin</th>\n",
       "      <th>Job Time</th>\n",
       "      <th>Prev Exep</th>\n",
       "      <th>Minority</th>\n",
       "    </tr>\n",
       "  </thead>\n",
       "  <tbody>\n",
       "    <tr>\n",
       "      <th>0</th>\n",
       "      <td>3</td>\n",
       "      <td>f</td>\n",
       "      <td>07/26/1929</td>\n",
       "      <td>12</td>\n",
       "      <td>1</td>\n",
       "      <td>21450</td>\n",
       "      <td>16725.0</td>\n",
       "      <td>12000</td>\n",
       "      <td>98</td>\n",
       "      <td>381</td>\n",
       "      <td>0</td>\n",
       "    </tr>\n",
       "    <tr>\n",
       "      <th>1</th>\n",
       "      <td>4</td>\n",
       "      <td>f</td>\n",
       "      <td>04/15/1947</td>\n",
       "      <td>8</td>\n",
       "      <td>1</td>\n",
       "      <td>21900</td>\n",
       "      <td>17550.0</td>\n",
       "      <td>13200</td>\n",
       "      <td>98</td>\n",
       "      <td>190</td>\n",
       "      <td>0</td>\n",
       "    </tr>\n",
       "    <tr>\n",
       "      <th>2</th>\n",
       "      <td>8</td>\n",
       "      <td>f</td>\n",
       "      <td>24263</td>\n",
       "      <td>12</td>\n",
       "      <td>1</td>\n",
       "      <td>21900</td>\n",
       "      <td>15825.0</td>\n",
       "      <td>9750</td>\n",
       "      <td>98</td>\n",
       "      <td>0</td>\n",
       "      <td>0</td>\n",
       "    </tr>\n",
       "    <tr>\n",
       "      <th>3</th>\n",
       "      <td>9</td>\n",
       "      <td>f</td>\n",
       "      <td>01/23/1946</td>\n",
       "      <td>15</td>\n",
       "      <td>1</td>\n",
       "      <td>27900</td>\n",
       "      <td>20325.0</td>\n",
       "      <td>12750</td>\n",
       "      <td>98</td>\n",
       "      <td>115</td>\n",
       "      <td>0</td>\n",
       "    </tr>\n",
       "    <tr>\n",
       "      <th>4</th>\n",
       "      <td>10</td>\n",
       "      <td>f</td>\n",
       "      <td>02/13/1946</td>\n",
       "      <td>12</td>\n",
       "      <td>1</td>\n",
       "      <td>24000</td>\n",
       "      <td>18750.0</td>\n",
       "      <td>13500</td>\n",
       "      <td>98</td>\n",
       "      <td>244</td>\n",
       "      <td>0</td>\n",
       "    </tr>\n",
       "  </tbody>\n",
       "</table>\n",
       "</div>"
      ],
      "text/plain": [
       "   ID Gender  Birth Date  Education  JobCategory  CurrentSalary  After6Months  \\\n",
       "0   3      f  07/26/1929         12            1          21450       16725.0   \n",
       "1   4      f  04/15/1947          8            1          21900       17550.0   \n",
       "2   8      f       24263         12            1          21900       15825.0   \n",
       "3   9      f  01/23/1946         15            1          27900       20325.0   \n",
       "4  10      f  02/13/1946         12            1          24000       18750.0   \n",
       "\n",
       "   SalBegin  Job Time  Prev Exep  Minority  \n",
       "0     12000        98        381         0  \n",
       "1     13200        98        190         0  \n",
       "2      9750        98          0         0  \n",
       "3     12750        98        115         0  \n",
       "4     13500        98        244         0  "
      ]
     },
     "execution_count": 17,
     "metadata": {},
     "output_type": "execute_result"
    }
   ],
   "source": [
    "import pandas as pd\n",
    "dataset=pd.read_excel(\"3. Descriptive Statistics.xlsx\", sheet_name=0)\n",
    "dataset1=pd.read_excel(\"3. Descriptive Statistics.xlsx\", sheet_name=\"DescriptiveStatistics1\")\n",
    "dataset.head()"
   ]
  },
  {
   "cell_type": "code",
   "execution_count": 18,
   "metadata": {},
   "outputs": [
    {
     "data": {
      "text/plain": [
       "34419.56751054852"
      ]
     },
     "execution_count": 18,
     "metadata": {},
     "output_type": "execute_result"
    }
   ],
   "source": [
    "dataset['CurrentSalary'].mean()"
   ]
  },
  {
   "cell_type": "code",
   "execution_count": 19,
   "metadata": {},
   "outputs": [
    {
     "data": {
      "text/plain": [
       "28875.0"
      ]
     },
     "execution_count": 19,
     "metadata": {},
     "output_type": "execute_result"
    }
   ],
   "source": [
    "dataset['CurrentSalary'].median()"
   ]
  },
  {
   "cell_type": "code",
   "execution_count": 20,
   "metadata": {},
   "outputs": [
    {
     "data": {
      "text/plain": [
       "0    30750\n",
       "dtype: int64"
      ]
     },
     "execution_count": 20,
     "metadata": {},
     "output_type": "execute_result"
    }
   ],
   "source": [
    "dataset['CurrentSalary'].mode()"
   ]
  },
  {
   "cell_type": "code",
   "execution_count": 21,
   "metadata": {},
   "outputs": [
    {
     "data": {
      "text/plain": [
       "17075.66146458606"
      ]
     },
     "execution_count": 21,
     "metadata": {},
     "output_type": "execute_result"
    }
   ],
   "source": [
    "dataset['CurrentSalary'].std()"
   ]
  },
  {
   "cell_type": "code",
   "execution_count": 22,
   "metadata": {},
   "outputs": [
    {
     "data": {
      "text/plain": [
       "291578214.45314944"
      ]
     },
     "execution_count": 22,
     "metadata": {},
     "output_type": "execute_result"
    }
   ],
   "source": [
    "dataset['CurrentSalary'].var()"
   ]
  },
  {
   "cell_type": "code",
   "execution_count": 23,
   "metadata": {},
   "outputs": [
    {
     "data": {
      "text/plain": [
       "291578214.45314944"
      ]
     },
     "execution_count": 23,
     "metadata": {},
     "output_type": "execute_result"
    }
   ],
   "source": [
    "dataset['CurrentSalary'].var()"
   ]
  },
  {
   "cell_type": "code",
   "execution_count": 24,
   "metadata": {},
   "outputs": [
    {
     "data": {
      "text/plain": [
       "2.1246062823682506"
      ]
     },
     "execution_count": 24,
     "metadata": {},
     "output_type": "execute_result"
    }
   ],
   "source": [
    "dataset['CurrentSalary'].skew()"
   ]
  },
  {
   "cell_type": "code",
   "execution_count": 25,
   "metadata": {},
   "outputs": [
    {
     "data": {
      "text/plain": [
       "5.377822396136782"
      ]
     },
     "execution_count": 25,
     "metadata": {},
     "output_type": "execute_result"
    }
   ],
   "source": [
    "dataset['CurrentSalary'].kurt()"
   ]
  },
  {
   "cell_type": "code",
   "execution_count": 28,
   "metadata": {},
   "outputs": [
    {
     "data": {
      "text/plain": [
       "<matplotlib.collections.PathCollection at 0x1e507b3c048>"
      ]
     },
     "execution_count": 28,
     "metadata": {},
     "output_type": "execute_result"
    },
    {
     "data": {
      "image/png": "[encoded data removed]",
      "text/plain": [
       "<Figure size 432x288 with 1 Axes>"
      ]
     },
     "metadata": {
      "needs_background": "light"
     },
     "output_type": "display_data"
    }
   ],
   "source": [
    "import matplotlib.pyplot as plt\n",
    "plt.boxplot(dataset['CurrentSalary'])\n",
    "plt.scatter(dataset['CurrentSalary'],dataset['After6Months'])"
   ]
  },
  {
   "cell_type": "code",
   "execution_count": null,
   "metadata": {},
   "outputs": [],
   "source": []
  }
 ],
 "metadata": {
  "kernelspec": {
   "display_name": "Python 3",
   "language": "python",
   "name": "python3"
  },
  "language_info": {
   "codemirror_mode": {
    "name": "ipython",
    "version": 3
   },
   "file_extension": ".py",
   "mimetype": "text/x-python",
   "name": "python",
   "nbconvert_exporter": "python",
   "pygments_lexer": "ipython3",
   "version": "3.7.6"
  }
 },
 "nbformat": 4,
 "nbformat_minor": 4
}
