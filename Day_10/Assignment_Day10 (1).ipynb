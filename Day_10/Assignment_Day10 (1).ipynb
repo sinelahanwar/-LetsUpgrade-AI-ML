{
 "cells": [
  {
   "cell_type": "markdown",
   "metadata": {},
   "source": [
    "# 10 Hypothesis Statements"
   ]
  },
  {
   "cell_type": "markdown",
   "metadata": {},
   "source": [
    "## Hypothesis 1:\n",
    "### If you want to attract top talent to your business both now and in the future, you need to ensure that your brand is as attractive as it can be. "
   ]
  },
  {
   "cell_type": "markdown",
   "metadata": {},
   "source": [
    "## Hypothesis 2:\n",
    "### If you make sure that throughout your talent acquisition process your candidates get a taste of what the job would be like, e.g. through assignments or job trials they will get a better understanding of working in your company."
   ]
  },
  {
   "cell_type": "markdown",
   "metadata": {},
   "source": [
    "## Hypothesis 3:\n",
    "### If the company works ethically in all its activities then the new talents will be more comfortable working."
   ]
  },
  {
   "cell_type": "markdown",
   "metadata": {},
   "source": [
    "## Hypothesis 4:\n",
    "### If company has an ambition and purpose beyond simply making money, it attracts passionate workers and increases profit."
   ]
  },
  {
   "cell_type": "markdown",
   "metadata": {},
   "source": [
    "## Hypothesis 5:\n",
    "### If you have flexible working options, it results in better management."
   ]
  },
  {
   "cell_type": "markdown",
   "metadata": {},
   "source": [
    "## Hypothesis 6:\n",
    "### If you treat the new talent as individuals, not as a number on the payroll it creates high trust culture.\n"
   ]
  },
  {
   "cell_type": "markdown",
   "metadata": {},
   "source": [
    "## Hypothesis 7:\n",
    "### If you provide continuous training to your talent then they will always be on top of the newest developments in the area."
   ]
  },
  {
   "cell_type": "markdown",
   "metadata": {},
   "source": [
    "## Hypothesis 8:\n",
    "### If you want to keep your talent pipeline filled up, incentivize your existing engaged employees to promote your company, it will go a long way to ensuring candidate referrals keep trickling in."
   ]
  },
  {
   "cell_type": "markdown",
   "metadata": {},
   "source": [
    "## Hypothesis 9:\n",
    "### If you stay on top of your hiring demand data and react on changes in the market conditions, then your talent acquisition process wouldn't  be set in stone."
   ]
  },
  {
   "cell_type": "markdown",
   "metadata": {},
   "source": [
    "## Hypothesis 10:\n",
    "### If you assess candidates for potential and dismiss those that don’t have the requisite hard skills that you may require, this will help during the time of low employment."
   ]
  }
 ],
 "metadata": {
  "kernelspec": {
   "display_name": "Python 3",
   "language": "python",
   "name": "python3"
  },
  "language_info": {
   "codemirror_mode": {
    "name": "ipython",
    "version": 3
   },
   "file_extension": ".py",
   "mimetype": "text/x-python",
   "name": "python",
   "nbconvert_exporter": "python",
   "pygments_lexer": "ipython3",
   "version": "3.7.6"
  }
 },
 "nbformat": 4,
 "nbformat_minor": 4
}
