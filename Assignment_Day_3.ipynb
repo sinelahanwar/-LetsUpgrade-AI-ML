{
 "cells": [
  {
   "cell_type": "markdown",
   "metadata": {},
   "source": [
    "# Assignment Day 3 , 8th July 2020"
   ]
  },
  {
   "cell_type": "markdown",
   "metadata": {},
   "source": [
    "## Question 1 :\n",
    "### Write a program to subtract two complex numbers in Python."
   ]
  },
  {
   "cell_type": "code",
   "execution_count": 2,
   "metadata": {},
   "outputs": [
    {
     "name": "stdout",
     "output_type": "stream",
     "text": [
      "Addition is =  (3+5j)\n"
     ]
    }
   ],
   "source": [
    "def add_complex( z1, z2): \n",
    "    return z1 + z2 \n",
    "   \n",
    "z1 = complex(2, 3) \n",
    "z2 = complex(1, 2) \n",
    "print( \"Addition is = \", add_complex(z1, z2))"
   ]
  },
  {
   "cell_type": "markdown",
   "metadata": {},
   "source": [
    "## Question 2 :\n",
    "### Write a program to find the fourth root of a number.\n"
   ]
  },
  {
   "cell_type": "code",
   "execution_count": 7,
   "metadata": {},
   "outputs": [
    {
     "name": "stdout",
     "output_type": "stream",
     "text": [
      "The 4th root of 49 is 2.6457513110645907\n"
     ]
    }
   ],
   "source": [
    "def fourth_root(num):\n",
    "    fourth_root = num**(1/4)\n",
    "    return fourth_root\n",
    "print('The 4th root of 49 is', fourth_root(49))"
   ]
  },
  {
   "cell_type": "markdown",
   "metadata": {},
   "source": [
    "## Question 3:\n",
    "### Write a program to swap two numbers in Python with the help of a temporary variable.\n"
   ]
  },
  {
   "cell_type": "code",
   "execution_count": 15,
   "metadata": {},
   "outputs": [
    {
     "name": "stdout",
     "output_type": "stream",
     "text": [
      "The two no.s before swapping are 3 6\n",
      "The two no.s after swapping are 6 3\n"
     ]
    }
   ],
   "source": [
    "def swap_with_temp(num1, num2):\n",
    "    print('The two no.s before swapping are', num1, num2)\n",
    "    temp = num1\n",
    "    num1 = num2\n",
    "    num2 = temp\n",
    "    return num1,num2\n",
    "num1, num2 = swap_with_temp(3,6)\n",
    "print('The two no.s after swapping are', num1, num2)\n"
   ]
  },
  {
   "cell_type": "markdown",
   "metadata": {},
   "source": [
    "## Question 4:\n",
    "### Write a program to swap two numbers in Python without using a temporary variable.\n"
   ]
  },
  {
   "cell_type": "code",
   "execution_count": 22,
   "metadata": {},
   "outputs": [
    {
     "name": "stdout",
     "output_type": "stream",
     "text": [
      "The two no.s before swapping are 5 10\n",
      "The two no.s after swapping are 10 5\n"
     ]
    }
   ],
   "source": [
    "def swap_without_temp(num1, num2):\n",
    "    print('The two no.s before swapping are', num1, num2)\n",
    "    num1 = num1*num2\n",
    "    num2 = num1//num2\n",
    "    num1 = num1//num2\n",
    "    return num1,num2\n",
    "num1, num2 = swap_without_temp(5,10)\n",
    "print('The two no.s after swapping are', int(num1), int(num2))"
   ]
  },
  {
   "cell_type": "markdown",
   "metadata": {},
   "source": [
    "## Question 5:\n",
    "### Write a program to convert fahrenheit to kelvin and celsius both."
   ]
  },
  {
   "cell_type": "code",
   "execution_count": 23,
   "metadata": {},
   "outputs": [
    {
     "name": "stdout",
     "output_type": "stream",
     "text": [
      "The conversion of 36 Farenheit to Kelvin is 275.72222222222223\n",
      "The conversion of 36 Farenheit to Celsius is 2.2222222222222223\n"
     ]
    }
   ],
   "source": [
    "def fahrenheit_to_kelvin(f): \n",
    "    return 273.5 + ((f - 32.0) * (5.0/9.0)) \n",
    "def fahrenheit_to_celsius(f):\n",
    "    return (f - 32) * 5/9\n",
    "print('The conversion of 36 Farenheit to Kelvin is', fahrenheit_to_kelvin(36))\n",
    "print('The conversion of 36 Farenheit to Celsius is', fahrenheit_to_celsius(36))\n",
    "\n",
    "  "
   ]
  },
  {
   "cell_type": "markdown",
   "metadata": {},
   "source": [
    "## Question 6:\n",
    "### Write a program to demonstrate all the available data types in Python. Hint: Use type() function."
   ]
  },
  {
   "cell_type": "code",
   "execution_count": 43,
   "metadata": {},
   "outputs": [
    {
     "name": "stdout",
     "output_type": "stream",
     "text": [
      "Data Type of 5 is <class 'int'>\n",
      "Data Type of 3.4 is <class 'float'>\n",
      "Data Type of comp is <class 'complex'>\n",
      "Data Type of b is <class 'bool'>\n",
      "Data Type of python is <class 'str'>\n",
      "Data Type of list1 is <class 'list'>\n",
      "Data Type of tupple1 is <class 'tuple'>\n",
      "Data Type of set1 is <class 'set'>\n",
      "Data Type of dict1 is <class 'dict'>\n"
     ]
    }
   ],
   "source": [
    "#Data_assignment:-\n",
    "comp = -2 + 5j\n",
    "b = True\n",
    "list1 = ['py', 'js', 'ai', 'ml']\n",
    "tupple1 = (5, 6, 7, 8)\n",
    "set1 = {'a','b', 4, 9}\n",
    "dict1 = {1:'key', 2:'bool'}\n",
    "print('Data Type of 5 is', type(5))\n",
    "print('Data Type of 3.4 is', type(3.4))\n",
    "print('Data Type of comp is', type(comp))\n",
    "print('Data Type of b is', type(b))\n",
    "print('Data Type of python is', type('python'))\n",
    "print('Data Type of list1 is', type(list1))\n",
    "print('Data Type of tupple1 is', type(tupple1))\n",
    "print('Data Type of set1 is', type(set1))\n",
    "print('Data Type of dict1 is', type(dict1))\n",
    "\n",
    "\n",
    "\n"
   ]
  },
  {
   "cell_type": "markdown",
   "metadata": {},
   "source": [
    "## Question 7:\n",
    "### Create a Markdown cell in jupyter and list the steps discussed in the session by Dr. Darshan Ingle sir to create Github profile and upload Githubs Assignment link."
   ]
  },
  {
   "cell_type": "markdown",
   "metadata": {},
   "source": [
    "### Steps to create Github profile:-"
   ]
  },
  {
   "cell_type": "markdown",
   "metadata": {},
   "source": [
    "1. Open the site github.com\n",
    "2. Signup with your gmail account\n"
   ]
  },
  {
   "cell_type": "markdown",
   "metadata": {},
   "source": [
    "### Steps to upload Github Assignment link"
   ]
  },
  {
   "cell_type": "markdown",
   "metadata": {},
   "source": [
    "1. Create a Github public repo and name it LetsUpgrade AI/ML\n",
    "2. Upload the files/solution in the repo in day wise manner.\n",
    "3. Copy the URL of the Folder of that day and paste in the Assignment Submission Form (Google Form)"
   ]
  },
  {
   "cell_type": "code",
   "execution_count": null,
   "metadata": {},
   "outputs": [],
   "source": []
  }
 ],
 "metadata": {
  "kernelspec": {
   "display_name": "Python 3",
   "language": "python",
   "name": "python3"
  },
  "language_info": {
   "codemirror_mode": {
    "name": "ipython",
    "version": 3
   },
   "file_extension": ".py",
   "mimetype": "text/x-python",
   "name": "python",
   "nbconvert_exporter": "python",
   "pygments_lexer": "ipython3",
   "version": "3.7.6"
  }
 },
 "nbformat": 4,
 "nbformat_minor": 4
}
