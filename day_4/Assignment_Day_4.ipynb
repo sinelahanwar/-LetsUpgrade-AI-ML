{
 "cells": [
  {
   "cell_type": "markdown",
   "metadata": {},
   "source": [
    "# Assignment Day 4 | 9th July 2020"
   ]
  },
  {
   "cell_type": "code",
   "execution_count": 13,
   "metadata": {},
   "outputs": [],
   "source": [
    "import math"
   ]
  },
  {
   "cell_type": "markdown",
   "metadata": {},
   "source": [
    "## Question 1 :\n",
    "### Research on whether addition, subtraction, multiplication, division, floor division and modulo operations be performed on complex numbers. Based on your study, implement a Python program to demonstrate these operations.\n"
   ]
  },
  {
   "cell_type": "markdown",
   "metadata": {},
   "source": [
    " #### Addition(+) operation performed on complex no.s:-"
   ]
  },
  {
   "cell_type": "code",
   "execution_count": 3,
   "metadata": {},
   "outputs": [
    {
     "name": "stdout",
     "output_type": "stream",
     "text": [
      "Addition is =  (3+5j)\n"
     ]
    }
   ],
   "source": [
    "def add_complex( z1, z2): \n",
    "    return z1 + z2 \n",
    "   \n",
    "z1 = complex(2, 3) \n",
    "z2 = complex(1, 2) \n",
    "print( \"Addition = \", add_complex(z1, z2))"
   ]
  },
  {
   "cell_type": "markdown",
   "metadata": {},
   "source": [
    "#### Subtraction(-) operation performed on complex no.s:-"
   ]
  },
  {
   "cell_type": "code",
   "execution_count": 2,
   "metadata": {},
   "outputs": [
    {
     "name": "stdout",
     "output_type": "stream",
     "text": [
      "Subtraction is =  (1+1j)\n"
     ]
    }
   ],
   "source": [
    "def sub_complex( z1, z2): \n",
    "    return z1 - z2 \n",
    "   \n",
    "z1 = complex(2, 3) \n",
    "z2 = complex(1, 2) \n",
    "print( \"Subtraction = \", sub_complex(z1, z2))"
   ]
  },
  {
   "cell_type": "markdown",
   "metadata": {},
   "source": [
    "#### Multiplication(*) operation performed on complex no.s:-"
   ]
  },
  {
   "cell_type": "code",
   "execution_count": null,
   "metadata": {},
   "outputs": [],
   "source": [
    "def mult_complex( z1, z2): \n",
    "    return z1 * z2 \n",
    "   \n",
    "z1 = complex(2, 3) \n",
    "z2 = complex(1, 2) \n",
    "print( \"Multiplication = \", mult_complex(z1, z2))"
   ]
  },
  {
   "cell_type": "markdown",
   "metadata": {},
   "source": [
    "#### Division(/) operation performed on complex no.s:-"
   ]
  },
  {
   "cell_type": "code",
   "execution_count": 5,
   "metadata": {},
   "outputs": [
    {
     "name": "stdout",
     "output_type": "stream",
     "text": [
      "Division is =  (1.6-0.2j)\n"
     ]
    }
   ],
   "source": [
    "def div_complex( z1, z2): \n",
    "    return z1 / z2 \n",
    "   \n",
    "z1 = complex(2, 3) \n",
    "z2 = complex(1, 2) \n",
    "print( \"Division = \", div_complex(z1, z2))"
   ]
  },
  {
   "cell_type": "markdown",
   "metadata": {},
   "source": [
    "#### Floor_division (//) operation is performed on complex no.s:-"
   ]
  },
  {
   "cell_type": "code",
   "execution_count": 44,
   "metadata": {},
   "outputs": [
    {
     "name": "stdout",
     "output_type": "stream",
     "text": [
      "Floor division = (5+0j)\n"
     ]
    }
   ],
   "source": [
    "# Initializing real numbers \n",
    "x = 5\n",
    "y = 3\n",
    "a = 1\n",
    "b = 7\n",
    "# converting into complex number \n",
    "comp_no_1 = complex(x,y)\n",
    "comp_no_2 =complex(a,b)\n",
    "# floor division on complex no.s\n",
    "f1=x//a\n",
    "f2=y//b\n",
    "f=complex(f1,f2)\n",
    "print('Floor division =', f)\n"
   ]
  },
  {
   "cell_type": "markdown",
   "metadata": {},
   "source": [
    "#### Modulo (%) operation is performed on complex no.s:-"
   ]
  },
  {
   "cell_type": "code",
   "execution_count": 49,
   "metadata": {},
   "outputs": [
    {
     "name": "stdout",
     "output_type": "stream",
     "text": [
      "Floor division = 3j\n"
     ]
    }
   ],
   "source": [
    "# Initializing real numbers \n",
    "x = 5\n",
    "y = 3\n",
    "a = 1\n",
    "b = 7\n",
    "# converting into complex number \n",
    "comp_no_1 = complex(x,y)\n",
    "comp_no_2 =complex(a,b)\n",
    "# floor division on complex no.s\n",
    "f1=x%a\n",
    "f2=y%b\n",
    "f=complex(f1,f2)\n",
    "print('Floor division =', f)\n"
   ]
  },
  {
   "cell_type": "markdown",
   "metadata": {},
   "source": [
    "## Question 2 :\n",
    "### Research on range() functions and its parameters. Create a markdown cell and write in your own words (no copy-paste from google please) what you understand about it. Implement a small program of your choice on the same."
   ]
  },
  {
   "cell_type": "markdown",
   "metadata": {},
   "source": [
    "#### Definition:\n",
    "The range() function returns a sequence of numbers, starting from 0 by default, \n",
    "and increments by 1 (by default), and stops before a specified number.\n",
    "\n",
    "There are three ways you can call range() :\n",
    "range(stop) takes one argument.\n",
    "range(start, stop) takes two arguments.\n",
    "range(start, stop, step) takes three arguments.\n",
    "\n",
    "Python range() function doesn’t support the float numbers.\n"
   ]
  },
  {
   "cell_type": "code",
   "execution_count": 50,
   "metadata": {},
   "outputs": [
    {
     "name": "stdout",
     "output_type": "stream",
     "text": [
      "0 1 2 3 4 5 6 7 8 9 \n"
     ]
    }
   ],
   "source": [
    "# Python program to print number\n",
    "for i in range(10): \n",
    "    print(i, end =\" \") \n",
    "print() \n",
    "  "
   ]
  },
  {
   "cell_type": "markdown",
   "metadata": {},
   "source": [
    "## Question 3:\n",
    "### Consider two numbers. Perform their subtraction and if the result of subtraction is greater than 25, print their multiplication result else print their division result."
   ]
  },
  {
   "cell_type": "code",
   "execution_count": 51,
   "metadata": {},
   "outputs": [
    {
     "name": "stdout",
     "output_type": "stream",
     "text": [
      "1.6666666666666667\n"
     ]
    }
   ],
   "source": [
    "def sub(num_1,num_2):\n",
    "    sub = num_1 - num_2\n",
    "    if (sub>25):\n",
    "        print(num_1*num_2)\n",
    "    else:\n",
    "        print(num_1/num_2)\n",
    "sub(10,6)"
   ]
  },
  {
   "cell_type": "markdown",
   "metadata": {},
   "source": [
    "## Question 4:\n",
    "### Consider a list of 10 elements of integer values. If the number in the list is divisible by 2, print the result as \"square of that number minus 2\".\n"
   ]
  },
  {
   "cell_type": "code",
   "execution_count": 58,
   "metadata": {},
   "outputs": [
    {
     "name": "stdout",
     "output_type": "stream",
     "text": [
      "Not divisible by 2\n",
      "2\n",
      "Not divisible by 2\n",
      "14\n",
      "34\n",
      "Not divisible by 2\n"
     ]
    }
   ],
   "source": [
    "\n",
    "list = [1,2,3,4,6,9]\n",
    "for i in range(0,len(list)):\n",
    "    if(list[i]%2 == 0):\n",
    "        print(list[i]**2 - 2)\n",
    "    else:\n",
    "        print('Not divisible by 2')"
   ]
  },
  {
   "cell_type": "markdown",
   "metadata": {},
   "source": [
    "## Question 5:\n",
    "### Consider a list of 10 elements. Print all the elements in the list which are greater than 7 when that number is divided 2."
   ]
  },
  {
   "cell_type": "code",
   "execution_count": 73,
   "metadata": {},
   "outputs": [
    {
     "name": "stdout",
     "output_type": "stream",
     "text": [
      "20\n",
      "34\n",
      "No is less than 7\n",
      "76\n",
      "No is less than 7\n",
      "No is less than 7\n",
      "23\n",
      "15\n",
      "66\n"
     ]
    }
   ],
   "source": [
    "list1 =[20, 34, 5, 76, 8, 9, 23, 15, 66]\n",
    "for i in range(0,len(list1)):\n",
    "    if(list1[i]/2>7):\n",
    "        print(list1[i])\n",
    "    else:\n",
    "        print('No is less than 7')"
   ]
  },
  {
   "cell_type": "code",
   "execution_count": null,
   "metadata": {},
   "outputs": [],
   "source": []
  }
 ],
 "metadata": {
  "kernelspec": {
   "display_name": "Python 3",
   "language": "python",
   "name": "python3"
  },
  "language_info": {
   "codemirror_mode": {
    "name": "ipython",
    "version": 3
   },
   "file_extension": ".py",
   "mimetype": "text/x-python",
   "name": "python",
   "nbconvert_exporter": "python",
   "pygments_lexer": "ipython3",
   "version": "3.7.6"
  }
 },
 "nbformat": 4,
 "nbformat_minor": 4
}
