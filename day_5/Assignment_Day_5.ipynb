{
 "cells": [
  {
   "cell_type": "markdown",
   "metadata": {},
   "source": [
    "# Assignment Day 5 | 10th July 2020"
   ]
  },
  {
   "cell_type": "markdown",
   "metadata": {},
   "source": [
    "## Question 1 :\n",
    "### Write a python program to find the first 20 non-even prime natural numbers."
   ]
  },
  {
   "cell_type": "code",
   "execution_count": 15,
   "metadata": {},
   "outputs": [
    {
     "name": "stdout",
     "output_type": "stream",
     "text": [
      "The first 20 non-even prime natural numbers are:\n",
      "3\n",
      "5\n",
      "7\n",
      "11\n",
      "13\n",
      "17\n",
      "19\n"
     ]
    }
   ],
   "source": [
    "print('The first 20 non-even prime natural numbers are:')\n",
    "for num in range(3,21):\n",
    "    if(num>1):\n",
    "        for i in range(2,num):\n",
    "            if(num%i==0):\n",
    "                break\n",
    "        else:\n",
    "            print(num)\n",
    "    \n",
    "        "
   ]
  },
  {
   "cell_type": "markdown",
   "metadata": {},
   "source": [
    "## Question 2 :\n",
    "### Write a Python program to implement 15 functions of string."
   ]
  },
  {
   "cell_type": "code",
   "execution_count": 28,
   "metadata": {},
   "outputs": [
    {
     "name": "stdout",
     "output_type": "stream",
     "text": [
      "python\n",
      "python\n",
      "PYTHON\n",
      "PYTHON\n",
      "True\n",
      "6\n",
      "pythongame\n",
      "pzthon\n",
      "4\n",
      "0000python\n",
      "Python\n",
      "python\n",
      "True\n",
      "pyth\n",
      "yt\n"
     ]
    }
   ],
   "source": [
    "str1 = 'python'\n",
    "str2 = 'game'\n",
    "print(str1.center(3))\n",
    "print(str1.lower())\n",
    "print(str1.upper())\n",
    "print(str1.swapcase())\n",
    "print(str1.isalpha())\n",
    "print(len(str1))\n",
    "print(str1 + str2)\n",
    "print(str1.replace('y','z'))\n",
    "print(str1.find('o'))\n",
    "print(str1.zfill(10))\n",
    "print(str1.title())\n",
    "print(str1.strip())\n",
    "print(str1.startswith('p'))\n",
    "print(str1[0:4])\n",
    "print(str1[1:3])"
   ]
  },
  {
   "cell_type": "markdown",
   "metadata": {},
   "source": [
    "## Question 3:\n",
    "### Write a Python program to check if the given string is a Palindrome or Anagram or None of them. Display the message accordingly to the user.\n"
   ]
  },
  {
   "cell_type": "code",
   "execution_count": 36,
   "metadata": {},
   "outputs": [
    {
     "name": "stdout",
     "output_type": "stream",
     "text": [
      "It is a palindrome\n"
     ]
    }
   ],
   "source": [
    "s='malayalam'\n",
    "s1='hel'\n",
    "if(s == s[::-1]):\n",
    "    print('It is a palindrome')\n",
    "elif(sorted(s)==sorted(s1)):\n",
    "    print(\"The strings are anagrams.\")\n",
    "else:\n",
    "    print(\"The string is neither a palindrome or anagram\") \n",
    "\n",
    "\n",
    "  "
   ]
  },
  {
   "cell_type": "markdown",
   "metadata": {},
   "source": [
    "## Question 4:\n",
    "### Write a Python's user defined function that removes all the additional characters from the string and converts it finally to lower case using built-in lower(). eg: If the string is \"Dr. Darshan Ingle @AI-ML Trainer\", then the output be \"drdarshaningleaimltrainer\"."
   ]
  },
  {
   "cell_type": "code",
   "execution_count": 3,
   "metadata": {},
   "outputs": [
    {
     "name": "stdout",
     "output_type": "stream",
     "text": [
      "drdarshaningleaimltrainer\n"
     ]
    }
   ],
   "source": [
    "original_string = \"Dr. Darshan Ingle @AI-ML Trainer\"\n",
    "characters_to_remove = \".@- \"\n",
    "\n",
    "new_string = original_string\n",
    "for character in characters_to_remove:\n",
    "  new_string = new_string.replace(character, \"\")\n",
    "\n",
    "print(new_string.lower())"
   ]
  }
 ],
 "metadata": {
  "kernelspec": {
   "display_name": "Python 3",
   "language": "python",
   "name": "python3"
  },
  "language_info": {
   "codemirror_mode": {
    "name": "ipython",
    "version": 3
   },
   "file_extension": ".py",
   "mimetype": "text/x-python",
   "name": "python",
   "nbconvert_exporter": "python",
   "pygments_lexer": "ipython3",
   "version": "3.7.6"
  }
 },
 "nbformat": 4,
 "nbformat_minor": 4
}
